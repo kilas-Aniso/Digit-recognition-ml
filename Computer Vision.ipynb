{
 "cells": [
  {
   "cell_type": "markdown",
   "id": "0710743a-be88-4de1-9f0a-db568e422f3f",
   "metadata": {},
   "source": [
    "## Objective of this notebook is to to train a model to recognize handwritten digits (0-9) using the MNIST dataset and later showcase the results on a web platform.. The notebook wull first cover the first part of the goal."
   ]
  },
  {
   "cell_type": "code",
   "execution_count": 4,
   "id": "03693f21-ad30-4421-ba99-ba4f36664975",
   "metadata": {},
   "outputs": [
    {
     "name": "stdout",
     "output_type": "stream",
     "text": [
      "Requirement already satisfied: opencv-python in ./miniconda3/envs/myenv/lib/python3.9/site-packages (4.11.0.86)\n",
      "Requirement already satisfied: numpy in ./miniconda3/envs/myenv/lib/python3.9/site-packages (2.0.2)\n",
      "Requirement already satisfied: matplotlib in ./miniconda3/envs/myenv/lib/python3.9/site-packages (3.9.4)\n",
      "Requirement already satisfied: pillow in ./miniconda3/envs/myenv/lib/python3.9/site-packages (11.1.0)\n",
      "Requirement already satisfied: scikit-image in ./miniconda3/envs/myenv/lib/python3.9/site-packages (0.24.0)\n",
      "Requirement already satisfied: torch in ./miniconda3/envs/myenv/lib/python3.9/site-packages (2.6.0)\n",
      "Requirement already satisfied: torchvision in ./miniconda3/envs/myenv/lib/python3.9/site-packages (0.21.0)\n",
      "Requirement already satisfied: contourpy>=1.0.1 in ./miniconda3/envs/myenv/lib/python3.9/site-packages (from matplotlib) (1.3.0)\n",
      "Requirement already satisfied: cycler>=0.10 in ./miniconda3/envs/myenv/lib/python3.9/site-packages (from matplotlib) (0.12.1)\n",
      "Requirement already satisfied: fonttools>=4.22.0 in ./miniconda3/envs/myenv/lib/python3.9/site-packages (from matplotlib) (4.56.0)\n",
      "Requirement already satisfied: kiwisolver>=1.3.1 in ./miniconda3/envs/myenv/lib/python3.9/site-packages (from matplotlib) (1.4.7)\n",
      "Requirement already satisfied: packaging>=20.0 in ./miniconda3/envs/myenv/lib/python3.9/site-packages (from matplotlib) (24.2)\n",
      "Requirement already satisfied: pyparsing>=2.3.1 in ./miniconda3/envs/myenv/lib/python3.9/site-packages (from matplotlib) (3.2.1)\n",
      "Requirement already satisfied: python-dateutil>=2.7 in ./miniconda3/envs/myenv/lib/python3.9/site-packages (from matplotlib) (2.9.0.post0)\n",
      "Requirement already satisfied: importlib-resources>=3.2.0 in ./miniconda3/envs/myenv/lib/python3.9/site-packages (from matplotlib) (6.5.2)\n",
      "Requirement already satisfied: scipy>=1.9 in ./miniconda3/envs/myenv/lib/python3.9/site-packages (from scikit-image) (1.13.1)\n",
      "Requirement already satisfied: networkx>=2.8 in ./miniconda3/envs/myenv/lib/python3.9/site-packages (from scikit-image) (3.2.1)\n",
      "Requirement already satisfied: imageio>=2.33 in ./miniconda3/envs/myenv/lib/python3.9/site-packages (from scikit-image) (2.37.0)\n",
      "Requirement already satisfied: tifffile>=2022.8.12 in ./miniconda3/envs/myenv/lib/python3.9/site-packages (from scikit-image) (2024.8.30)\n",
      "Requirement already satisfied: lazy-loader>=0.4 in ./miniconda3/envs/myenv/lib/python3.9/site-packages (from scikit-image) (0.4)\n",
      "Requirement already satisfied: filelock in ./miniconda3/envs/myenv/lib/python3.9/site-packages (from torch) (3.17.0)\n",
      "Requirement already satisfied: typing-extensions>=4.10.0 in ./miniconda3/envs/myenv/lib/python3.9/site-packages (from torch) (4.12.2)\n",
      "Requirement already satisfied: jinja2 in ./miniconda3/envs/myenv/lib/python3.9/site-packages (from torch) (3.1.6)\n",
      "Requirement already satisfied: fsspec in ./miniconda3/envs/myenv/lib/python3.9/site-packages (from torch) (2025.3.0)\n",
      "Requirement already satisfied: nvidia-cuda-nvrtc-cu12==12.4.127 in ./miniconda3/envs/myenv/lib/python3.9/site-packages (from torch) (12.4.127)\n",
      "Requirement already satisfied: nvidia-cuda-runtime-cu12==12.4.127 in ./miniconda3/envs/myenv/lib/python3.9/site-packages (from torch) (12.4.127)\n",
      "Requirement already satisfied: nvidia-cuda-cupti-cu12==12.4.127 in ./miniconda3/envs/myenv/lib/python3.9/site-packages (from torch) (12.4.127)\n",
      "Requirement already satisfied: nvidia-cudnn-cu12==9.1.0.70 in ./miniconda3/envs/myenv/lib/python3.9/site-packages (from torch) (9.1.0.70)\n",
      "Requirement already satisfied: nvidia-cublas-cu12==12.4.5.8 in ./miniconda3/envs/myenv/lib/python3.9/site-packages (from torch) (12.4.5.8)\n",
      "Requirement already satisfied: nvidia-cufft-cu12==11.2.1.3 in ./miniconda3/envs/myenv/lib/python3.9/site-packages (from torch) (11.2.1.3)\n",
      "Requirement already satisfied: nvidia-curand-cu12==10.3.5.147 in ./miniconda3/envs/myenv/lib/python3.9/site-packages (from torch) (10.3.5.147)\n",
      "Requirement already satisfied: nvidia-cusolver-cu12==11.6.1.9 in ./miniconda3/envs/myenv/lib/python3.9/site-packages (from torch) (11.6.1.9)\n",
      "Requirement already satisfied: nvidia-cusparse-cu12==12.3.1.170 in ./miniconda3/envs/myenv/lib/python3.9/site-packages (from torch) (12.3.1.170)\n",
      "Requirement already satisfied: nvidia-cusparselt-cu12==0.6.2 in ./miniconda3/envs/myenv/lib/python3.9/site-packages (from torch) (0.6.2)\n",
      "Requirement already satisfied: nvidia-nccl-cu12==2.21.5 in ./miniconda3/envs/myenv/lib/python3.9/site-packages (from torch) (2.21.5)\n",
      "Requirement already satisfied: nvidia-nvtx-cu12==12.4.127 in ./miniconda3/envs/myenv/lib/python3.9/site-packages (from torch) (12.4.127)\n",
      "Requirement already satisfied: nvidia-nvjitlink-cu12==12.4.127 in ./miniconda3/envs/myenv/lib/python3.9/site-packages (from torch) (12.4.127)\n",
      "Requirement already satisfied: triton==3.2.0 in ./miniconda3/envs/myenv/lib/python3.9/site-packages (from torch) (3.2.0)\n",
      "Requirement already satisfied: sympy==1.13.1 in ./miniconda3/envs/myenv/lib/python3.9/site-packages (from torch) (1.13.1)\n",
      "Requirement already satisfied: mpmath<1.4,>=1.1.0 in ./miniconda3/envs/myenv/lib/python3.9/site-packages (from sympy==1.13.1->torch) (1.3.0)\n",
      "Requirement already satisfied: zipp>=3.1.0 in ./miniconda3/envs/myenv/lib/python3.9/site-packages (from importlib-resources>=3.2.0->matplotlib) (3.21.0)\n",
      "Requirement already satisfied: six>=1.5 in ./miniconda3/envs/myenv/lib/python3.9/site-packages (from python-dateutil>=2.7->matplotlib) (1.16.0)\n",
      "Requirement already satisfied: MarkupSafe>=2.0 in ./miniconda3/envs/myenv/lib/python3.9/site-packages (from jinja2->torch) (3.0.2)\n"
     ]
    }
   ],
   "source": [
    "!pip install opencv-python numpy matplotlib pillow scikit-image torch torchvision\n"
   ]
  },
  {
   "cell_type": "markdown",
   "id": "a3badb2f-9246-411e-8f50-0cd4e13fd14e",
   "metadata": {},
   "source": [
    "## Loading MNIST Dataset using Pytoch"
   ]
  },
  {
   "cell_type": "code",
   "execution_count": 2,
   "id": "8c6bad65-e552-48c2-b488-0fa3f538e89f",
   "metadata": {},
   "outputs": [
    {
     "name": "stderr",
     "output_type": "stream",
     "text": [
      "100%|██████████████████████████████████████| 9.91M/9.91M [00:02<00:00, 3.84MB/s]\n",
      "100%|██████████████████████████████████████| 28.9k/28.9k [00:00<00:00, 1.04MB/s]\n",
      "100%|██████████████████████████████████████| 1.65M/1.65M [00:01<00:00, 1.11MB/s]\n",
      "100%|██████████████████████████████████████| 4.54k/4.54k [00:00<00:00, 2.99MB/s]\n"
     ]
    },
    {
     "data": {
      "image/png": "[encoded data removed]",
      "text/plain": [
       "<Figure size 640x480 with 1 Axes>"
      ]
     },
     "metadata": {},
     "output_type": "display_data"
    },
    {
     "name": "stdout",
     "output_type": "stream",
     "text": [
      "Label: 3\n"
     ]
    }
   ],
   "source": [
    "import torch\n",
    "import torchvision\n",
    "import torchvision.transforms as transforms\n",
    "\n",
    "# Load the MNIST dataset\n",
    "transform = transforms.Compose([transforms.ToTensor()])\n",
    "trainset = torchvision.datasets.MNIST(root='./data', train=True, download=True, transform=transform)\n",
    "trainloader = torch.utils.data.DataLoader(trainset, batch_size=32, shuffle=True)\n",
    "\n",
    "# Show sample images\n",
    "import matplotlib.pyplot as plt\n",
    "import numpy as np\n",
    "\n",
    "def imshow(img):\n",
    "    img = img.numpy().squeeze()\n",
    "    plt.imshow(img, cmap='gray')\n",
    "    plt.show()\n",
    "\n",
    "# Get one batch\n",
    "dataiter = iter(trainloader)\n",
    "images, labels = next(dataiter)\n",
    "\n",
    "# Show first image\n",
    "imshow(images[0])\n",
    "print(f'Label: {labels[0].item()}')\n"
   ]
  },
  {
   "cell_type": "markdown",
   "id": "28399771-bc1c-459e-81d5-00dcb41c198f",
   "metadata": {},
   "source": [
    "## Dataset exploration"
   ]
  },
  {
   "cell_type": "code",
   "execution_count": 5,
   "id": "150304c0-150b-43bd-bfa0-e3edbdb74c0f",
   "metadata": {},
   "outputs": [
    {
     "name": "stdout",
     "output_type": "stream",
     "text": [
      "Total images: 60000\n",
      "Total classes: 10\n"
     ]
    },
    {
     "data": {
      "image/png": "[encoded data removed]",
      "text/plain": [
       "<Figure size 1000x300 with 5 Axes>"
      ]
     },
     "metadata": {},
     "output_type": "display_data"
    }
   ],
   "source": [
    "import matplotlib.pyplot as plt\n",
    "import numpy as np\n",
    "\n",
    "# Get dataset statistics\n",
    "num_images = len(trainset)\n",
    "num_classes = len(set(trainset.targets.numpy()))\n",
    "\n",
    "print(f\"Total images: {num_images}\")\n",
    "print(f\"Total classes: {num_classes}\")\n",
    "\n",
    "# Show 5 random images\n",
    "fig, axes = plt.subplots(1, 5, figsize=(10, 3))\n",
    "for i in range(5):\n",
    "    image, label = trainset[i]\n",
    "    axes[i].imshow(image.squeeze(), cmap='gray')\n",
    "    axes[i].set_title(f\"Label: {label}\")\n",
    "    axes[i].axis('off')\n",
    "\n",
    "plt.show()\n"
   ]
  },
  {
   "cell_type": "markdown",
   "id": "a4ad2466-37d1-477e-8eba-a26ffcd5d530",
   "metadata": {},
   "source": [
    "## Preprocessing and Splitting the Dataset\n"
   ]
  },
  {
   "cell_type": "markdown",
   "id": "5afa85a0-9e49-4606-a620-e80cf7b26413",
   "metadata": {},
   "source": [
    "## we need to prepare the dataset for training. This involves:\n",
    "1. Normalizing the Images – Since pixel values range from 0-255, we scale them to a range of 0-1 for better training efficiency.\n",
    "2. Converting to Tensors – Ensuring the dataset is in the correct format for PyTorch models.\n",
    "3. Splitting into Training & Testing Sets – To evaluate how well the model generalizes.\n"
   ]
  },
  {
   "cell_type": "code",
   "execution_count": 6,
   "id": "df0d0ea5-6550-46ba-9cf5-154b8a44d62b",
   "metadata": {},
   "outputs": [
    {
     "name": "stdout",
     "output_type": "stream",
     "text": [
      "Training samples: 60000\n",
      "Testing samples: 10000\n"
     ]
    }
   ],
   "source": [
    "import torch\n",
    "import torchvision.transforms as transforms\n",
    "from torch.utils.data import random_split, DataLoader\n",
    "\n",
    "# Define transformations (Normalize to [0,1] and convert to tensor)\n",
    "transform = transforms.Compose([\n",
    "    transforms.ToTensor(),\n",
    "    transforms.Normalize((0.5,), (0.5,))  # Normalize between -1 and 1\n",
    "])\n",
    "\n",
    "# Reload dataset with transformations applied\n",
    "trainset = torchvision.datasets.MNIST(root='./data', train=True, download=True, transform=transform)\n",
    "testset = torchvision.datasets.MNIST(root='./data', train=False, download=True, transform=transform)\n",
    "\n",
    "# Define batch size\n",
    "batch_size = 32\n",
    "\n",
    "# Create data loaders\n",
    "trainloader = DataLoader(trainset, batch_size=batch_size, shuffle=True)\n",
    "testloader = DataLoader(testset, batch_size=batch_size, shuffle=False)\n",
    "\n",
    "# Print dataset sizes\n",
    "print(f\"Training samples: {len(trainset)}\")\n",
    "print(f\"Testing samples: {len(testset)}\")\n"
   ]
  },
  {
   "cell_type": "markdown",
   "id": "9398f3e3-f0a2-4b45-8a87-bc11b6a65401",
   "metadata": {},
   "source": [
    "## Building a Basic Model"
   ]
  },
  {
   "cell_type": "markdown",
   "id": "643635ab-6df5-491d-86e9-bc72ae058505",
   "metadata": {},
   "source": [
    "## We’ll now build a simple neural network to classify handwritten digits. This model will:\n",
    "1. Take a 28x28 grayscale image as input\n",
    "2. Flatten the image into a 1D array (since neural networks process vectors, not 2D images)\n",
    "3. Use two fully connected layers with activation functions\n",
    "4. Output predictions for digits 0-9 (10 classes)\n"
   ]
  },
  {
   "cell_type": "code",
   "execution_count": 8,
   "id": "b2dc8375-87f0-488f-9ede-c817d21a2d4c",
   "metadata": {},
   "outputs": [
    {
     "name": "stdout",
     "output_type": "stream",
     "text": [
      "SimpleNN(\n",
      "  (fc1): Linear(in_features=784, out_features=128, bias=True)\n",
      "  (fc2): Linear(in_features=128, out_features=64, bias=True)\n",
      "  (fc3): Linear(in_features=64, out_features=10, bias=True)\n",
      ")\n"
     ]
    }
   ],
   "source": [
    "import torch.nn as nn\n",
    "import torch.optim as optim\n",
    "\n",
    "# Define the neural network\n",
    "class SimpleNN(nn.Module):\n",
    "    def __init__(self):\n",
    "        super(SimpleNN, self).__init__()\n",
    "        self.fc1 = nn.Linear(28*28, 128)  # First hidden layer\n",
    "        self.fc2 = nn.Linear(128, 64)     # Second hidden layer\n",
    "        self.fc3 = nn.Linear(64, 10)      # Output layer (10 classes)\n",
    "\n",
    "    def forward(self, x):\n",
    "        x = x.view(-1, 28*28)  # Flatten image to 1D vector\n",
    "        x = torch.relu(self.fc1(x))  # Apply ReLU activation\n",
    "        x = torch.relu(self.fc2(x))\n",
    "        x = self.fc3(x)  # Output layer (no activation, as we'll use CrossEntropyLoss)\n",
    "        return x\n",
    "\n",
    "# Instantiate the model\n",
    "model = SimpleNN()\n",
    "\n",
    "# Define the loss function and optimizer\n",
    "criterion = nn.CrossEntropyLoss()  # Suitable for multi-class classification\n",
    "optimizer = optim.Adam(model.parameters(), lr=0.001)  # Adam optimizer\n",
    "\n",
    "# Print model architecture\n",
    "print(model)\n"
   ]
  },
  {
   "cell_type": "markdown",
   "id": "171e2e5c-fc94-43aa-a37b-5ac48798eb39",
   "metadata": {},
   "source": [
    "## Train the model"
   ]
  },
  {
   "cell_type": "code",
   "execution_count": null,
   "id": "decf28ac-40ae-4d29-8f07-0b391038164e",
   "metadata": {},
   "outputs": [],
   "source": [
    "num_epochs = 5\n",
    "\n",
    "for epoch in range(num_epochs):\n",
    "    running_loss = 0.0\n",
    "\n",
    "    for batch_idx, (images, labels) in enumerate(trainloader):\n",
    "        optimizer.zero_grad()  # Zero the gradients\n",
    "        outputs = model(images)  # Forward pass\n",
    "        loss = criterion(outputs, labels)  # Compute loss\n",
    "        loss.backward()  # Backward pass\n",
    "        optimizer.step()  # Update weights\n",
    "\n",
    "        running_loss += loss.item()\n",
    "        \n",
    "        # Print every 100 batches to see progress\n",
    "        if batch_idx % 100 == 0:\n",
    "            print(f\"Epoch {epoch+1}, Batch {batch_idx}, Loss: {loss.item():.4f}\")\n",
    "\n",
    "    # Print epoch-level loss\n",
    "    print(f\"Epoch {epoch+1}/{num_epochs}, Avg Loss: {running_loss / len(trainloader):.4f}\")\n",
    "\n",
    "print(\"Training complete!\")\n"
   ]
  },
  {
   "cell_type": "code",
   "execution_count": null,
   "id": "62adc71f-ef61-424c-9757-6626883b80a0",
   "metadata": {},
   "outputs": [],
   "source": []
  },
  {
   "cell_type": "code",
   "execution_count": null,
   "id": "a0e21dab-b905-4162-9389-180c17514939",
   "metadata": {},
   "outputs": [],
   "source": []
  }
 ],
 "metadata": {
  "kernelspec": {
   "display_name": "Python 3 (ipykernel)",
   "language": "python",
   "name": "python3"
  },
  "language_info": {
   "codemirror_mode": {
    "name": "ipython",
    "version": 3
   },
   "file_extension": ".py",
   "mimetype": "text/x-python",
   "name": "python",
   "nbconvert_exporter": "python",
   "pygments_lexer": "ipython3",
   "version": "3.9.21"
  }
 },
 "nbformat": 4,
 "nbformat_minor": 5
}
